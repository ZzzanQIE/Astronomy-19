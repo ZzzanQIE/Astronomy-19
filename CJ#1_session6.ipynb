{
 "cells": [
  {
   "cell_type": "markdown",
   "metadata": {},
   "source": [
    "Import *numpy* and *tabulate* module"
   ]
  },
  {
   "cell_type": "code",
   "execution_count": null,
   "metadata": {},
   "outputs": [],
   "source": [
    "import numpy as np\n",
    "from astropy.table import Table\n"
   ]
  },
  {
   "cell_type": "markdown",
   "metadata": {},
   "source": [
    "Create *sin_function()* and *cos_function()*"
   ]
  },
  {
   "cell_type": "code",
   "execution_count": null,
   "metadata": {},
   "outputs": [],
   "source": [
    "def sin_function(x):\n",
    "    y = np.sin(x)\n",
    "    return y"
   ]
  },
  {
   "cell_type": "code",
   "execution_count": null,
   "metadata": {},
   "outputs": [],
   "source": [
    "def cos_function(x):\n",
    "    z = np.cos(x)\n",
    "    return z"
   ]
  },
  {
   "cell_type": "markdown",
   "metadata": {},
   "source": [
    "Use the value created by *sin_function()* and *cos_function()* to make a table"
   ]
  },
  {
   "cell_type": "code",
   "execution_count": null,
   "metadata": {},
   "outputs": [],
   "source": [
    "def create_table(x,y,z):\n",
    "    data_table = Table()\n",
    "    data_table[\"x\"] = x\n",
    "    data_table[\"sin(x)\"] = y\n",
    "    data_table[\"cos(x)\"] = z\n",
    "\n",
    "    data_table[\"x\"].format = \"{:.3f}\"\n",
    "    data_table[\"sin(x)\"].format = \"{:.3f}\"\n",
    "    data_table[\"cos(x)\"].format = \"{:.3f}\" \n",
    "\n",
    "    print(data_table)\n"
   ]
  },
  {
   "cell_type": "markdown",
   "metadata": {},
   "source": [
    "**Main function**\n",
    "create number a thousand number between 0 and 2pi by using linspace,\n",
    "call the *sin_function(),cos_function()* and *create_table()*,\n",
    "using a for loop to create the first 10 value of sin and cos"
   ]
  },
  {
   "cell_type": "code",
   "execution_count": null,
   "metadata": {},
   "outputs": [],
   "source": [
    "def main():\n",
    "    x = np.linspace(0, 2 * np.pi, 1000, dtype=float)\n",
    "    y = sin_function(x)\n",
    "    z = cos_function(x)\n",
    "\n",
    "    # Initialize lists to store the first 10 values\n",
    "    x_first_10 = []\n",
    "    y_first_10 = []\n",
    "    z_first_10 = []\n",
    "\n",
    "    # Collect the first 10 values using a for loop\n",
    "    for i in range(10):\n",
    "        x_first_10.append(x[i])\n",
    "        y_first_10.append(y[i])\n",
    "        z_first_10.append(z[i])\n",
    "\n",
    "    # Use the create_table function to display the table\n",
    "    create_table(x_first_10, y_first_10, z_first_10)\n",
    "\n",
    "if __name__ == \"__main__\":\n",
    "    main()"
   ]
  }
 ],
 "metadata": {
  "kernelspec": {
   "display_name": "Python 3",
   "language": "python",
   "name": "python3"
  },
  "language_info": {
   "codemirror_mode": {
    "name": "ipython",
    "version": 3
   },
   "file_extension": ".py",
   "mimetype": "text/x-python",
   "name": "python",
   "nbconvert_exporter": "python",
   "pygments_lexer": "ipython3",
   "version": "3.12.1"
  }
 },
 "nbformat": 4,
 "nbformat_minor": 2
}
